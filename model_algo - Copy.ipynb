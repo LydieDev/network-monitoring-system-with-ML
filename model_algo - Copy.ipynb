{
 "cells": [
  {
   "cell_type": "code",
   "execution_count": 2,
   "id": "c463d31c",
   "metadata": {},
   "outputs": [],
   "source": [
    "import numpy as np\n",
    "import pandas as pd\n",
    "import seaborn as sns\n",
    "import matplotlib.pyplot as plt\n",
    "from pandas.api.types import is_numeric_dtype\n",
    "import warnings\n",
    "import pickle\n",
    "from sklearn import tree\n",
    "from sklearn.model_selection import train_test_split\n",
    "from sklearn.neighbors import KNeighborsClassifier\n",
    "from sklearn.linear_model import LogisticRegression\n",
    "from sklearn.preprocessing import StandardScaler, LabelEncoder\n",
    "from sklearn.tree import DecisionTreeClassifier\n",
    "from sklearn.ensemble import RandomForestClassifier, AdaBoostClassifier, VotingClassifier, GradientBoostingClassifier\n",
    "from sklearn.svm import SVC, LinearSVC\n",
    "from sklearn.naive_bayes import BernoulliNB\n",
    "from lightgbm import LGBMClassifier\n",
    "from sklearn.feature_selection import RFE\n",
    "from xgboost import XGBClassifier\n",
    "import itertools\n",
    "from tabulate import tabulate\n",
    "import joblib\n",
    "from joblib import dump\n",
    "from sklearn import metrics\n",
    "from sklearn.metrics import confusion_matrix\n"
   ]
  },
  {
   "cell_type": "code",
   "execution_count": 3,
   "id": "d7e38544",
   "metadata": {},
   "outputs": [],
   "source": [
    "train=pd.read_csv('./dataset/trainData.txt', sep=',')\n",
    "test=pd.read_csv('./dataset/testData.txt',sep=',')"
   ]
  },
  {
   "cell_type": "code",
   "execution_count": 4,
   "id": "6ba0a57b",
   "metadata": {},
   "outputs": [],
   "source": [
    "selected_features=['duration','hot', 'count','protocol_type','service','src_bytes','dst_bytes','flag','land','wrong_fragment','urgent','class']"
   ]
  },
  {
   "cell_type": "code",
   "execution_count": 5,
   "id": "9e591a94",
   "metadata": {},
   "outputs": [
    {
     "data": {
      "text/html": [
       "<div>\n",
       "<style scoped>\n",
       "    .dataframe tbody tr th:only-of-type {\n",
       "        vertical-align: middle;\n",
       "    }\n",
       "\n",
       "    .dataframe tbody tr th {\n",
       "        vertical-align: top;\n",
       "    }\n",
       "\n",
       "    .dataframe thead th {\n",
       "        text-align: right;\n",
       "    }\n",
       "</style>\n",
       "<table border=\"1\" class=\"dataframe\">\n",
       "  <thead>\n",
       "    <tr style=\"text-align: right;\">\n",
       "      <th></th>\n",
       "      <th>duration</th>\n",
       "      <th>hot</th>\n",
       "      <th>count</th>\n",
       "      <th>protocol_type</th>\n",
       "      <th>service</th>\n",
       "      <th>src_bytes</th>\n",
       "      <th>dst_bytes</th>\n",
       "      <th>flag</th>\n",
       "      <th>land</th>\n",
       "      <th>wrong_fragment</th>\n",
       "      <th>urgent</th>\n",
       "      <th>class</th>\n",
       "    </tr>\n",
       "  </thead>\n",
       "  <tbody>\n",
       "    <tr>\n",
       "      <th>0</th>\n",
       "      <td>0</td>\n",
       "      <td>0</td>\n",
       "      <td>2</td>\n",
       "      <td>tcp</td>\n",
       "      <td>ftp_data</td>\n",
       "      <td>491</td>\n",
       "      <td>0</td>\n",
       "      <td>SF</td>\n",
       "      <td>0</td>\n",
       "      <td>0</td>\n",
       "      <td>0</td>\n",
       "      <td>normal</td>\n",
       "    </tr>\n",
       "    <tr>\n",
       "      <th>1</th>\n",
       "      <td>0</td>\n",
       "      <td>0</td>\n",
       "      <td>13</td>\n",
       "      <td>udp</td>\n",
       "      <td>other</td>\n",
       "      <td>146</td>\n",
       "      <td>0</td>\n",
       "      <td>SF</td>\n",
       "      <td>0</td>\n",
       "      <td>0</td>\n",
       "      <td>0</td>\n",
       "      <td>normal</td>\n",
       "    </tr>\n",
       "    <tr>\n",
       "      <th>2</th>\n",
       "      <td>0</td>\n",
       "      <td>0</td>\n",
       "      <td>123</td>\n",
       "      <td>tcp</td>\n",
       "      <td>private</td>\n",
       "      <td>0</td>\n",
       "      <td>0</td>\n",
       "      <td>S0</td>\n",
       "      <td>0</td>\n",
       "      <td>0</td>\n",
       "      <td>0</td>\n",
       "      <td>anomaly</td>\n",
       "    </tr>\n",
       "    <tr>\n",
       "      <th>3</th>\n",
       "      <td>0</td>\n",
       "      <td>0</td>\n",
       "      <td>5</td>\n",
       "      <td>tcp</td>\n",
       "      <td>http</td>\n",
       "      <td>232</td>\n",
       "      <td>8153</td>\n",
       "      <td>SF</td>\n",
       "      <td>0</td>\n",
       "      <td>0</td>\n",
       "      <td>0</td>\n",
       "      <td>normal</td>\n",
       "    </tr>\n",
       "    <tr>\n",
       "      <th>4</th>\n",
       "      <td>0</td>\n",
       "      <td>0</td>\n",
       "      <td>30</td>\n",
       "      <td>tcp</td>\n",
       "      <td>http</td>\n",
       "      <td>199</td>\n",
       "      <td>420</td>\n",
       "      <td>SF</td>\n",
       "      <td>0</td>\n",
       "      <td>0</td>\n",
       "      <td>0</td>\n",
       "      <td>normal</td>\n",
       "    </tr>\n",
       "    <tr>\n",
       "      <th>...</th>\n",
       "      <td>...</td>\n",
       "      <td>...</td>\n",
       "      <td>...</td>\n",
       "      <td>...</td>\n",
       "      <td>...</td>\n",
       "      <td>...</td>\n",
       "      <td>...</td>\n",
       "      <td>...</td>\n",
       "      <td>...</td>\n",
       "      <td>...</td>\n",
       "      <td>...</td>\n",
       "      <td>...</td>\n",
       "    </tr>\n",
       "    <tr>\n",
       "      <th>125968</th>\n",
       "      <td>0</td>\n",
       "      <td>0</td>\n",
       "      <td>184</td>\n",
       "      <td>tcp</td>\n",
       "      <td>private</td>\n",
       "      <td>0</td>\n",
       "      <td>0</td>\n",
       "      <td>S0</td>\n",
       "      <td>0</td>\n",
       "      <td>0</td>\n",
       "      <td>0</td>\n",
       "      <td>anomaly</td>\n",
       "    </tr>\n",
       "    <tr>\n",
       "      <th>125969</th>\n",
       "      <td>8</td>\n",
       "      <td>0</td>\n",
       "      <td>2</td>\n",
       "      <td>udp</td>\n",
       "      <td>private</td>\n",
       "      <td>105</td>\n",
       "      <td>145</td>\n",
       "      <td>SF</td>\n",
       "      <td>0</td>\n",
       "      <td>0</td>\n",
       "      <td>0</td>\n",
       "      <td>normal</td>\n",
       "    </tr>\n",
       "    <tr>\n",
       "      <th>125970</th>\n",
       "      <td>0</td>\n",
       "      <td>0</td>\n",
       "      <td>1</td>\n",
       "      <td>tcp</td>\n",
       "      <td>smtp</td>\n",
       "      <td>2231</td>\n",
       "      <td>384</td>\n",
       "      <td>SF</td>\n",
       "      <td>0</td>\n",
       "      <td>0</td>\n",
       "      <td>0</td>\n",
       "      <td>normal</td>\n",
       "    </tr>\n",
       "    <tr>\n",
       "      <th>125971</th>\n",
       "      <td>0</td>\n",
       "      <td>0</td>\n",
       "      <td>144</td>\n",
       "      <td>tcp</td>\n",
       "      <td>klogin</td>\n",
       "      <td>0</td>\n",
       "      <td>0</td>\n",
       "      <td>S0</td>\n",
       "      <td>0</td>\n",
       "      <td>0</td>\n",
       "      <td>0</td>\n",
       "      <td>anomaly</td>\n",
       "    </tr>\n",
       "    <tr>\n",
       "      <th>125972</th>\n",
       "      <td>0</td>\n",
       "      <td>0</td>\n",
       "      <td>1</td>\n",
       "      <td>tcp</td>\n",
       "      <td>ftp_data</td>\n",
       "      <td>151</td>\n",
       "      <td>0</td>\n",
       "      <td>SF</td>\n",
       "      <td>0</td>\n",
       "      <td>0</td>\n",
       "      <td>0</td>\n",
       "      <td>normal</td>\n",
       "    </tr>\n",
       "  </tbody>\n",
       "</table>\n",
       "<p>125973 rows × 12 columns</p>\n",
       "</div>"
      ],
      "text/plain": [
       "        duration  hot  count protocol_type   service  src_bytes  dst_bytes  \\\n",
       "0              0    0      2           tcp  ftp_data        491          0   \n",
       "1              0    0     13           udp     other        146          0   \n",
       "2              0    0    123           tcp   private          0          0   \n",
       "3              0    0      5           tcp      http        232       8153   \n",
       "4              0    0     30           tcp      http        199        420   \n",
       "...          ...  ...    ...           ...       ...        ...        ...   \n",
       "125968         0    0    184           tcp   private          0          0   \n",
       "125969         8    0      2           udp   private        105        145   \n",
       "125970         0    0      1           tcp      smtp       2231        384   \n",
       "125971         0    0    144           tcp    klogin          0          0   \n",
       "125972         0    0      1           tcp  ftp_data        151          0   \n",
       "\n",
       "       flag  land  wrong_fragment  urgent    class  \n",
       "0        SF     0               0       0   normal  \n",
       "1        SF     0               0       0   normal  \n",
       "2        S0     0               0       0  anomaly  \n",
       "3        SF     0               0       0   normal  \n",
       "4        SF     0               0       0   normal  \n",
       "...     ...   ...             ...     ...      ...  \n",
       "125968   S0     0               0       0  anomaly  \n",
       "125969   SF     0               0       0   normal  \n",
       "125970   SF     0               0       0   normal  \n",
       "125971   S0     0               0       0  anomaly  \n",
       "125972   SF     0               0       0   normal  \n",
       "\n",
       "[125973 rows x 12 columns]"
      ]
     },
     "execution_count": 5,
     "metadata": {},
     "output_type": "execute_result"
    }
   ],
   "source": [
    "train=train[selected_features]\n",
    "train"
   ]
  },
  {
   "cell_type": "code",
   "execution_count": 6,
   "id": "40d69a77",
   "metadata": {},
   "outputs": [],
   "source": [
    "total=train.shape[0]\n",
    "missing_columns= [col for col in train.columns if train[col].isnull().sum()>0]\n",
    "for col in missing_columns:\n",
    "    null_count = train[col].isnull().sum()\n",
    "    per= (null_count/total)*100\n",
    "    print(f\"{col}:{null_count} ({round(per,3)}%)\")"
   ]
  },
  {
   "cell_type": "code",
   "execution_count": 7,
   "id": "1750cf1d",
   "metadata": {},
   "outputs": [
    {
     "data": {
      "text/html": [
       "<div>\n",
       "<style scoped>\n",
       "    .dataframe tbody tr th:only-of-type {\n",
       "        vertical-align: middle;\n",
       "    }\n",
       "\n",
       "    .dataframe tbody tr th {\n",
       "        vertical-align: top;\n",
       "    }\n",
       "\n",
       "    .dataframe thead th {\n",
       "        text-align: right;\n",
       "    }\n",
       "</style>\n",
       "<table border=\"1\" class=\"dataframe\">\n",
       "  <thead>\n",
       "    <tr style=\"text-align: right;\">\n",
       "      <th></th>\n",
       "      <th>duration</th>\n",
       "      <th>hot</th>\n",
       "      <th>count</th>\n",
       "      <th>protocol_type</th>\n",
       "      <th>service</th>\n",
       "      <th>src_bytes</th>\n",
       "      <th>dst_bytes</th>\n",
       "      <th>flag</th>\n",
       "      <th>land</th>\n",
       "      <th>wrong_fragment</th>\n",
       "      <th>urgent</th>\n",
       "      <th>class</th>\n",
       "    </tr>\n",
       "  </thead>\n",
       "  <tbody>\n",
       "    <tr>\n",
       "      <th>0</th>\n",
       "      <td>0</td>\n",
       "      <td>0</td>\n",
       "      <td>2</td>\n",
       "      <td>1</td>\n",
       "      <td>20</td>\n",
       "      <td>491</td>\n",
       "      <td>0</td>\n",
       "      <td>9</td>\n",
       "      <td>0</td>\n",
       "      <td>0</td>\n",
       "      <td>0</td>\n",
       "      <td>1</td>\n",
       "    </tr>\n",
       "    <tr>\n",
       "      <th>1</th>\n",
       "      <td>0</td>\n",
       "      <td>0</td>\n",
       "      <td>13</td>\n",
       "      <td>2</td>\n",
       "      <td>44</td>\n",
       "      <td>146</td>\n",
       "      <td>0</td>\n",
       "      <td>9</td>\n",
       "      <td>0</td>\n",
       "      <td>0</td>\n",
       "      <td>0</td>\n",
       "      <td>1</td>\n",
       "    </tr>\n",
       "    <tr>\n",
       "      <th>2</th>\n",
       "      <td>0</td>\n",
       "      <td>0</td>\n",
       "      <td>123</td>\n",
       "      <td>1</td>\n",
       "      <td>49</td>\n",
       "      <td>0</td>\n",
       "      <td>0</td>\n",
       "      <td>5</td>\n",
       "      <td>0</td>\n",
       "      <td>0</td>\n",
       "      <td>0</td>\n",
       "      <td>0</td>\n",
       "    </tr>\n",
       "    <tr>\n",
       "      <th>3</th>\n",
       "      <td>0</td>\n",
       "      <td>0</td>\n",
       "      <td>5</td>\n",
       "      <td>1</td>\n",
       "      <td>24</td>\n",
       "      <td>232</td>\n",
       "      <td>8153</td>\n",
       "      <td>9</td>\n",
       "      <td>0</td>\n",
       "      <td>0</td>\n",
       "      <td>0</td>\n",
       "      <td>1</td>\n",
       "    </tr>\n",
       "    <tr>\n",
       "      <th>4</th>\n",
       "      <td>0</td>\n",
       "      <td>0</td>\n",
       "      <td>30</td>\n",
       "      <td>1</td>\n",
       "      <td>24</td>\n",
       "      <td>199</td>\n",
       "      <td>420</td>\n",
       "      <td>9</td>\n",
       "      <td>0</td>\n",
       "      <td>0</td>\n",
       "      <td>0</td>\n",
       "      <td>1</td>\n",
       "    </tr>\n",
       "    <tr>\n",
       "      <th>...</th>\n",
       "      <td>...</td>\n",
       "      <td>...</td>\n",
       "      <td>...</td>\n",
       "      <td>...</td>\n",
       "      <td>...</td>\n",
       "      <td>...</td>\n",
       "      <td>...</td>\n",
       "      <td>...</td>\n",
       "      <td>...</td>\n",
       "      <td>...</td>\n",
       "      <td>...</td>\n",
       "      <td>...</td>\n",
       "    </tr>\n",
       "    <tr>\n",
       "      <th>125968</th>\n",
       "      <td>0</td>\n",
       "      <td>0</td>\n",
       "      <td>184</td>\n",
       "      <td>1</td>\n",
       "      <td>49</td>\n",
       "      <td>0</td>\n",
       "      <td>0</td>\n",
       "      <td>5</td>\n",
       "      <td>0</td>\n",
       "      <td>0</td>\n",
       "      <td>0</td>\n",
       "      <td>0</td>\n",
       "    </tr>\n",
       "    <tr>\n",
       "      <th>125969</th>\n",
       "      <td>8</td>\n",
       "      <td>0</td>\n",
       "      <td>2</td>\n",
       "      <td>2</td>\n",
       "      <td>49</td>\n",
       "      <td>105</td>\n",
       "      <td>145</td>\n",
       "      <td>9</td>\n",
       "      <td>0</td>\n",
       "      <td>0</td>\n",
       "      <td>0</td>\n",
       "      <td>1</td>\n",
       "    </tr>\n",
       "    <tr>\n",
       "      <th>125970</th>\n",
       "      <td>0</td>\n",
       "      <td>0</td>\n",
       "      <td>1</td>\n",
       "      <td>1</td>\n",
       "      <td>54</td>\n",
       "      <td>2231</td>\n",
       "      <td>384</td>\n",
       "      <td>9</td>\n",
       "      <td>0</td>\n",
       "      <td>0</td>\n",
       "      <td>0</td>\n",
       "      <td>1</td>\n",
       "    </tr>\n",
       "    <tr>\n",
       "      <th>125971</th>\n",
       "      <td>0</td>\n",
       "      <td>0</td>\n",
       "      <td>144</td>\n",
       "      <td>1</td>\n",
       "      <td>30</td>\n",
       "      <td>0</td>\n",
       "      <td>0</td>\n",
       "      <td>5</td>\n",
       "      <td>0</td>\n",
       "      <td>0</td>\n",
       "      <td>0</td>\n",
       "      <td>0</td>\n",
       "    </tr>\n",
       "    <tr>\n",
       "      <th>125972</th>\n",
       "      <td>0</td>\n",
       "      <td>0</td>\n",
       "      <td>1</td>\n",
       "      <td>1</td>\n",
       "      <td>20</td>\n",
       "      <td>151</td>\n",
       "      <td>0</td>\n",
       "      <td>9</td>\n",
       "      <td>0</td>\n",
       "      <td>0</td>\n",
       "      <td>0</td>\n",
       "      <td>1</td>\n",
       "    </tr>\n",
       "  </tbody>\n",
       "</table>\n",
       "<p>125973 rows × 12 columns</p>\n",
       "</div>"
      ],
      "text/plain": [
       "        duration  hot  count  protocol_type  service  src_bytes  dst_bytes  \\\n",
       "0              0    0      2              1       20        491          0   \n",
       "1              0    0     13              2       44        146          0   \n",
       "2              0    0    123              1       49          0          0   \n",
       "3              0    0      5              1       24        232       8153   \n",
       "4              0    0     30              1       24        199        420   \n",
       "...          ...  ...    ...            ...      ...        ...        ...   \n",
       "125968         0    0    184              1       49          0          0   \n",
       "125969         8    0      2              2       49        105        145   \n",
       "125970         0    0      1              1       54       2231        384   \n",
       "125971         0    0    144              1       30          0          0   \n",
       "125972         0    0      1              1       20        151          0   \n",
       "\n",
       "        flag  land  wrong_fragment  urgent  class  \n",
       "0          9     0               0       0      1  \n",
       "1          9     0               0       0      1  \n",
       "2          5     0               0       0      0  \n",
       "3          9     0               0       0      1  \n",
       "4          9     0               0       0      1  \n",
       "...      ...   ...             ...     ...    ...  \n",
       "125968     5     0               0       0      0  \n",
       "125969     9     0               0       0      1  \n",
       "125970     9     0               0       0      1  \n",
       "125971     5     0               0       0      0  \n",
       "125972     9     0               0       0      1  \n",
       "\n",
       "[125973 rows x 12 columns]"
      ]
     },
     "execution_count": 7,
     "metadata": {},
     "output_type": "execute_result"
    }
   ],
   "source": [
    "def le(df):\n",
    "    for col in df.columns:\n",
    "        if df[col].dtype=='object':\n",
    "            label_encoder = LabelEncoder()\n",
    "            df[col]= label_encoder.fit_transform(df[col])\n",
    "le(train)\n",
    "le(test)\n",
    "train"
   ]
  },
  {
   "cell_type": "code",
   "execution_count": 8,
   "id": "ef943a0f",
   "metadata": {},
   "outputs": [],
   "source": [
    "x_train = train.drop(['class'],axis=1)\n",
    "y_train =train['class']"
   ]
  },
  {
   "cell_type": "code",
   "execution_count": 9,
   "id": "410481eb",
   "metadata": {},
   "outputs": [
    {
     "data": {
      "text/html": [
       "<div>\n",
       "<style scoped>\n",
       "    .dataframe tbody tr th:only-of-type {\n",
       "        vertical-align: middle;\n",
       "    }\n",
       "\n",
       "    .dataframe tbody tr th {\n",
       "        vertical-align: top;\n",
       "    }\n",
       "\n",
       "    .dataframe thead th {\n",
       "        text-align: right;\n",
       "    }\n",
       "</style>\n",
       "<table border=\"1\" class=\"dataframe\">\n",
       "  <thead>\n",
       "    <tr style=\"text-align: right;\">\n",
       "      <th></th>\n",
       "      <th>duration</th>\n",
       "      <th>hot</th>\n",
       "      <th>count</th>\n",
       "      <th>protocol_type</th>\n",
       "      <th>service</th>\n",
       "      <th>src_bytes</th>\n",
       "      <th>dst_bytes</th>\n",
       "      <th>flag</th>\n",
       "      <th>land</th>\n",
       "      <th>wrong_fragment</th>\n",
       "      <th>urgent</th>\n",
       "    </tr>\n",
       "  </thead>\n",
       "  <tbody>\n",
       "    <tr>\n",
       "      <th>0</th>\n",
       "      <td>0</td>\n",
       "      <td>0</td>\n",
       "      <td>2</td>\n",
       "      <td>1</td>\n",
       "      <td>20</td>\n",
       "      <td>491</td>\n",
       "      <td>0</td>\n",
       "      <td>9</td>\n",
       "      <td>0</td>\n",
       "      <td>0</td>\n",
       "      <td>0</td>\n",
       "    </tr>\n",
       "    <tr>\n",
       "      <th>1</th>\n",
       "      <td>0</td>\n",
       "      <td>0</td>\n",
       "      <td>13</td>\n",
       "      <td>2</td>\n",
       "      <td>44</td>\n",
       "      <td>146</td>\n",
       "      <td>0</td>\n",
       "      <td>9</td>\n",
       "      <td>0</td>\n",
       "      <td>0</td>\n",
       "      <td>0</td>\n",
       "    </tr>\n",
       "    <tr>\n",
       "      <th>2</th>\n",
       "      <td>0</td>\n",
       "      <td>0</td>\n",
       "      <td>123</td>\n",
       "      <td>1</td>\n",
       "      <td>49</td>\n",
       "      <td>0</td>\n",
       "      <td>0</td>\n",
       "      <td>5</td>\n",
       "      <td>0</td>\n",
       "      <td>0</td>\n",
       "      <td>0</td>\n",
       "    </tr>\n",
       "    <tr>\n",
       "      <th>3</th>\n",
       "      <td>0</td>\n",
       "      <td>0</td>\n",
       "      <td>5</td>\n",
       "      <td>1</td>\n",
       "      <td>24</td>\n",
       "      <td>232</td>\n",
       "      <td>8153</td>\n",
       "      <td>9</td>\n",
       "      <td>0</td>\n",
       "      <td>0</td>\n",
       "      <td>0</td>\n",
       "    </tr>\n",
       "    <tr>\n",
       "      <th>4</th>\n",
       "      <td>0</td>\n",
       "      <td>0</td>\n",
       "      <td>30</td>\n",
       "      <td>1</td>\n",
       "      <td>24</td>\n",
       "      <td>199</td>\n",
       "      <td>420</td>\n",
       "      <td>9</td>\n",
       "      <td>0</td>\n",
       "      <td>0</td>\n",
       "      <td>0</td>\n",
       "    </tr>\n",
       "    <tr>\n",
       "      <th>...</th>\n",
       "      <td>...</td>\n",
       "      <td>...</td>\n",
       "      <td>...</td>\n",
       "      <td>...</td>\n",
       "      <td>...</td>\n",
       "      <td>...</td>\n",
       "      <td>...</td>\n",
       "      <td>...</td>\n",
       "      <td>...</td>\n",
       "      <td>...</td>\n",
       "      <td>...</td>\n",
       "    </tr>\n",
       "    <tr>\n",
       "      <th>125968</th>\n",
       "      <td>0</td>\n",
       "      <td>0</td>\n",
       "      <td>184</td>\n",
       "      <td>1</td>\n",
       "      <td>49</td>\n",
       "      <td>0</td>\n",
       "      <td>0</td>\n",
       "      <td>5</td>\n",
       "      <td>0</td>\n",
       "      <td>0</td>\n",
       "      <td>0</td>\n",
       "    </tr>\n",
       "    <tr>\n",
       "      <th>125969</th>\n",
       "      <td>8</td>\n",
       "      <td>0</td>\n",
       "      <td>2</td>\n",
       "      <td>2</td>\n",
       "      <td>49</td>\n",
       "      <td>105</td>\n",
       "      <td>145</td>\n",
       "      <td>9</td>\n",
       "      <td>0</td>\n",
       "      <td>0</td>\n",
       "      <td>0</td>\n",
       "    </tr>\n",
       "    <tr>\n",
       "      <th>125970</th>\n",
       "      <td>0</td>\n",
       "      <td>0</td>\n",
       "      <td>1</td>\n",
       "      <td>1</td>\n",
       "      <td>54</td>\n",
       "      <td>2231</td>\n",
       "      <td>384</td>\n",
       "      <td>9</td>\n",
       "      <td>0</td>\n",
       "      <td>0</td>\n",
       "      <td>0</td>\n",
       "    </tr>\n",
       "    <tr>\n",
       "      <th>125971</th>\n",
       "      <td>0</td>\n",
       "      <td>0</td>\n",
       "      <td>144</td>\n",
       "      <td>1</td>\n",
       "      <td>30</td>\n",
       "      <td>0</td>\n",
       "      <td>0</td>\n",
       "      <td>5</td>\n",
       "      <td>0</td>\n",
       "      <td>0</td>\n",
       "      <td>0</td>\n",
       "    </tr>\n",
       "    <tr>\n",
       "      <th>125972</th>\n",
       "      <td>0</td>\n",
       "      <td>0</td>\n",
       "      <td>1</td>\n",
       "      <td>1</td>\n",
       "      <td>20</td>\n",
       "      <td>151</td>\n",
       "      <td>0</td>\n",
       "      <td>9</td>\n",
       "      <td>0</td>\n",
       "      <td>0</td>\n",
       "      <td>0</td>\n",
       "    </tr>\n",
       "  </tbody>\n",
       "</table>\n",
       "<p>125973 rows × 11 columns</p>\n",
       "</div>"
      ],
      "text/plain": [
       "        duration  hot  count  protocol_type  service  src_bytes  dst_bytes  \\\n",
       "0              0    0      2              1       20        491          0   \n",
       "1              0    0     13              2       44        146          0   \n",
       "2              0    0    123              1       49          0          0   \n",
       "3              0    0      5              1       24        232       8153   \n",
       "4              0    0     30              1       24        199        420   \n",
       "...          ...  ...    ...            ...      ...        ...        ...   \n",
       "125968         0    0    184              1       49          0          0   \n",
       "125969         8    0      2              2       49        105        145   \n",
       "125970         0    0      1              1       54       2231        384   \n",
       "125971         0    0    144              1       30          0          0   \n",
       "125972         0    0      1              1       20        151          0   \n",
       "\n",
       "        flag  land  wrong_fragment  urgent  \n",
       "0          9     0               0       0  \n",
       "1          9     0               0       0  \n",
       "2          5     0               0       0  \n",
       "3          9     0               0       0  \n",
       "4          9     0               0       0  \n",
       "...      ...   ...             ...     ...  \n",
       "125968     5     0               0       0  \n",
       "125969     9     0               0       0  \n",
       "125970     9     0               0       0  \n",
       "125971     5     0               0       0  \n",
       "125972     9     0               0       0  \n",
       "\n",
       "[125973 rows x 11 columns]"
      ]
     },
     "execution_count": 9,
     "metadata": {},
     "output_type": "execute_result"
    }
   ],
   "source": [
    "x_train"
   ]
  },
  {
   "cell_type": "code",
   "execution_count": 10,
   "id": "d51b3360",
   "metadata": {},
   "outputs": [],
   "source": [
    "\n",
    "# feature_map=[(i,v) for i,v in itertools.zip_longest(rfe.get_support(),x_train.columns)]\n",
    "# selected_features = [v for i, v in feature_map if i==True]\n",
    "# # feature_map\n",
    "# rfe.get_support()"
   ]
  },
  {
   "cell_type": "code",
   "execution_count": null,
   "id": "139953c8",
   "metadata": {},
   "outputs": [],
   "source": []
  },
  {
   "cell_type": "code",
   "execution_count": 11,
   "id": "270a5591",
   "metadata": {},
   "outputs": [],
   "source": [
    "scale= StandardScaler()\n",
    "x_train=scale.fit_transform(x_train)\n",
    "test= scale.fit_transform(test)"
   ]
  },
  {
   "cell_type": "code",
   "execution_count": 12,
   "id": "a24cea43",
   "metadata": {},
   "outputs": [],
   "source": [
    "X_train,X_test,Y_train,Y_test =train_test_split(x_train,y_train,train_size=0.70,random_state=2)"
   ]
  },
  {
   "cell_type": "code",
   "execution_count": 13,
   "id": "47d819bf",
   "metadata": {},
   "outputs": [
    {
     "data": {
      "text/plain": [
       "array([[-0.11024922, -0.09507567,  2.11244736, ..., -0.01408881,\n",
       "        -0.08948642, -0.00773599],\n",
       "       [-0.11024922, -0.09507567,  0.13878877, ..., -0.01408881,\n",
       "        -0.08948642, -0.00773599],\n",
       "       [-0.11024922, -0.09507567,  0.23485179, ..., -0.01408881,\n",
       "        -0.08948642, -0.00773599],\n",
       "       ...,\n",
       "       [-0.11024922, -0.09507567,  1.30901112, ..., -0.01408881,\n",
       "        -0.08948642, -0.00773599],\n",
       "       [-0.11024922, -0.09507567, -0.55985144, ..., -0.01408881,\n",
       "        -0.08948642, -0.00773599],\n",
       "       [ 0.34511562, -0.09507567, -0.72577849, ..., -0.01408881,\n",
       "        -0.08948642, -0.00773599]])"
      ]
     },
     "execution_count": 13,
     "metadata": {},
     "output_type": "execute_result"
    }
   ],
   "source": [
    "X_train"
   ]
  },
  {
   "cell_type": "code",
   "execution_count": 14,
   "id": "f1dcd789",
   "metadata": {},
   "outputs": [
    {
     "name": "stdout",
     "output_type": "stream",
     "text": [
      "Training score: 0.998820607613885\n",
      "Test score: 0.9991532599491956\n"
     ]
    }
   ],
   "source": [
    "rfc = RandomForestClassifier()\n",
    "\n",
    "rfe = RFE(rfc,n_features_to_select=10)\n",
    "rfe= rfe.fit(x_train,y_train)\n",
    "with open('anomalierf.pkl', 'wb') as f:\n",
    "    # Dump the object 'data' into the file 'f'\n",
    "    pickle.dump(rfe, f)\n",
    "rf_train,rf_test=rfe.score(X_train,Y_train) , rfe.score(X_test,Y_test)\n",
    "\n",
    "print(f\"Training score: {rf_train}\")\n",
    "print(f\"Test score: {rf_test}\")"
   ]
  },
  {
   "cell_type": "code",
   "execution_count": 15,
   "id": "19375255",
   "metadata": {},
   "outputs": [
    {
     "name": "stdout",
     "output_type": "stream",
     "text": [
      "Training time:  1.119394063949585\n"
     ]
    }
   ],
   "source": [
    "import time\n",
    "from sklearn.linear_model import LogisticRegression\n",
    "\n",
    "clfl=LogisticRegression(max_iter=1200000)\n",
    "start_time=time.time()\n",
    "clfl.fit(X_train,Y_train.values.ravel())\n",
    "end_time=time.time()\n",
    "print(\"Training time: \",end_time-start_time)"
   ]
  },
  {
   "cell_type": "code",
   "execution_count": 16,
   "id": "3054d08a",
   "metadata": {},
   "outputs": [
    {
     "name": "stdout",
     "output_type": "stream",
     "text": [
      "Testing time:  0.019870758056640625\n"
     ]
    }
   ],
   "source": [
    "start_time=time.time()\n",
    "Y_test_pred = clfl.predict(X_train)\n",
    "end_time=time.time()\n",
    "print(\"Testing time: \",end_time-start_time)"
   ]
  },
  {
   "cell_type": "code",
   "execution_count": 17,
   "id": "bb295b89",
   "metadata": {},
   "outputs": [],
   "source": [
    "lg_model= LogisticRegression(random_state=42)\n",
    "lg_model.fit(X_train,Y_train)\n",
    "with open('anomalielgm.pkl', 'wb') as f:\n",
    "    # Dump the object 'data' into the file 'f'\n",
    "    pickle.dump(lg_model, f)\n"
   ]
  },
  {
   "cell_type": "raw",
   "id": "5d0907a2",
   "metadata": {},
   "source": []
  },
  {
   "cell_type": "code",
   "execution_count": null,
   "id": "d3c17fc1",
   "metadata": {},
   "outputs": [],
   "source": []
  },
  {
   "cell_type": "code",
   "execution_count": 18,
   "id": "4e8d95de",
   "metadata": {},
   "outputs": [
    {
     "name": "stdout",
     "output_type": "stream",
     "text": [
      "Training score: 0.912656921559066\n",
      "Test score: 0.9105895427603725\n"
     ]
    }
   ],
   "source": [
    "lg_train,lg_test=lg_model.score(X_train,Y_train) , lg_model.score(X_test,Y_test)\n",
    "\n",
    "print(f\"Training score: {lg_train}\")\n",
    "print(f\"Test score: {lg_test}\")"
   ]
  },
  {
   "cell_type": "code",
   "execution_count": null,
   "id": "6e69a7c0",
   "metadata": {},
   "outputs": [],
   "source": []
  },
  {
   "cell_type": "code",
   "execution_count": 19,
   "id": "c28da501",
   "metadata": {},
   "outputs": [],
   "source": [
    "import optuna\n",
    "optuna.logging.set_verbosity(optuna.logging.WARNING)"
   ]
  },
  {
   "cell_type": "code",
   "execution_count": 20,
   "id": "71605738",
   "metadata": {},
   "outputs": [],
   "source": [
    "def objective(trial):\n",
    "    n_neighbors=trial.suggest_int('KNN_n_neighbors',2,16,log=False)\n",
    "    classifier_obj=KNeighborsClassifier(n_neighbors=n_neighbors)\n",
    "    classifier_obj.fit(X_train,Y_train)\n",
    "    accuracy=classifier_obj.score(X_test,Y_test)\n",
    "    return accuracy"
   ]
  },
  {
   "cell_type": "code",
   "execution_count": 21,
   "id": "2d651e3e",
   "metadata": {},
   "outputs": [
    {
     "name": "stdout",
     "output_type": "stream",
     "text": [
      "FrozenTrial(number=0, state=TrialState.COMPLETE, values=[0.9942315834038951], datetime_start=datetime.datetime(2024, 5, 28, 17, 32, 22, 785685), datetime_complete=datetime.datetime(2024, 5, 28, 17, 33, 22, 92459), params={'KNN_n_neighbors': 11}, user_attrs={}, system_attrs={}, intermediate_values={}, distributions={'KNN_n_neighbors': IntDistribution(high=16, log=False, low=2, step=1)}, trial_id=0, value=None)\n"
     ]
    }
   ],
   "source": [
    "study_KNN = optuna.create_study(direction='maximize')\n",
    "study_KNN.optimize(objective,n_trials=1)\n",
    "print(study_KNN.best_trial)"
   ]
  },
  {
   "cell_type": "code",
   "execution_count": 22,
   "id": "dbcc3345",
   "metadata": {},
   "outputs": [
    {
     "name": "stdout",
     "output_type": "stream",
     "text": [
      "Training score: 0.9952597498327304\n",
      "Test score: 0.9942315834038951\n"
     ]
    }
   ],
   "source": [
    "KNN_model = KNeighborsClassifier(n_neighbors=study_KNN.best_trial.params['KNN_n_neighbors'])\n",
    "KNN_model.fit(X_train,Y_train)\n",
    "with open('anomalieknn.pkl', 'wb') as f:\n",
    "    # Dump the object 'data' into the file 'f'\n",
    "    pickle.dump(KNN_model, f)\n",
    "\n",
    "KNN_train,KNN_test= KNN_model.score(X_train,Y_train),KNN_model.score(X_test,Y_test)\n",
    "\n",
    "print(f\"Training score: {KNN_train}\")\n",
    "print(f\"Test score: {KNN_test}\")"
   ]
  },
  {
   "cell_type": "code",
   "execution_count": 23,
   "id": "dc9d6107",
   "metadata": {},
   "outputs": [
    {
     "data": {
      "text/plain": [
       "array([-0.11024922, -0.09507567,  0.13878877, -0.12470616,  1.08730518,\n",
       "       -0.00776224, -0.00491864, -0.73623464, -0.01408881, -0.08948642,\n",
       "       -0.00773599])"
      ]
     },
     "execution_count": 23,
     "metadata": {},
     "output_type": "execute_result"
    }
   ],
   "source": [
    "# confusion_matrix(X_test,Y_test)\n",
    "X_train[1]"
   ]
  },
  {
   "cell_type": "code",
   "execution_count": 24,
   "id": "fb5914ee",
   "metadata": {},
   "outputs": [
    {
     "name": "stdout",
     "output_type": "stream",
     "text": [
      "Training time:  0.3523440361022949\n"
     ]
    }
   ],
   "source": [
    "from sklearn.tree import DecisionTreeClassifier\n",
    "\n",
    "clfd =DecisionTreeClassifier(criterion='entropy',max_depth=4)\n",
    "start_time= time.time()\n",
    "clfd.fit(X_train,Y_train.values.ravel())\n",
    "end_time=time.time()\n",
    "print(\"Training time: \",end_time-start_time)"
   ]
  },
  {
   "cell_type": "code",
   "execution_count": 25,
   "id": "38a2472b",
   "metadata": {},
   "outputs": [
    {
     "name": "stdout",
     "output_type": "stream",
     "text": [
      "Testing time:  0.03431510925292969\n"
     ]
    }
   ],
   "source": [
    "start_time= time.time()\n",
    "Y_test_pred=clfd.predict(x_train)\n",
    "end_time=time.time()\n",
    "print(\"Testing time: \",end_time-start_time)"
   ]
  },
  {
   "cell_type": "code",
   "execution_count": 26,
   "id": "4f24a6ea",
   "metadata": {},
   "outputs": [],
   "source": [
    "def objective(trial):\n",
    "    dt_max_depth=trial.suggest_int('dt_max_depth',2,32,log=False)\n",
    "    dt_max_features=trial.suggest_int('dt_max_features',2,10,log=False)\n",
    "    classifier_obj=DecisionTreeClassifier(max_features=dt_max_features,max_depth=dt_max_depth)\n",
    "    classifier_obj.fit(X_train,Y_train)\n",
    "    accuracy=classifier_obj.score(X_test,Y_test)\n",
    "    return accuracy"
   ]
  },
  {
   "cell_type": "code",
   "execution_count": 27,
   "id": "7dd57e29",
   "metadata": {},
   "outputs": [
    {
     "name": "stdout",
     "output_type": "stream",
     "text": [
      "FrozenTrial(number=24, state=TrialState.COMPLETE, values=[0.9976714648602879], datetime_start=datetime.datetime(2024, 5, 28, 17, 34, 59, 917195), datetime_complete=datetime.datetime(2024, 5, 28, 17, 35, 0, 183081), params={'dt_max_depth': 15, 'dt_max_features': 6}, user_attrs={}, system_attrs={}, intermediate_values={}, distributions={'dt_max_depth': IntDistribution(high=32, log=False, low=2, step=1), 'dt_max_features': IntDistribution(high=10, log=False, low=2, step=1)}, trial_id=24, value=None)\n"
     ]
    }
   ],
   "source": [
    "study_dt = optuna.create_study(direction='maximize')\n",
    "study_dt.optimize(objective,n_trials=30)\n",
    "print(study_dt.best_trial)"
   ]
  },
  {
   "cell_type": "code",
   "execution_count": 28,
   "id": "beb81d7f",
   "metadata": {},
   "outputs": [
    {
     "name": "stdout",
     "output_type": "stream",
     "text": [
      "Training score: 0.9985597804515712\n",
      "Test score: 0.9970364098221846\n"
     ]
    }
   ],
   "source": [
    "dt =DecisionTreeClassifier(max_features=study_dt.best_trial.params['dt_max_features'],max_depth=study_dt.best_trial.params['dt_max_depth'])\n",
    "dt.fit(X_train,Y_train)\n",
    "# dump(dt,'crssri.joblib')\n",
    "with open('anomalie.pkl', 'wb') as f:\n",
    "    # Dump the object 'data' into the file 'f'\n",
    "    pickle.dump(dt, f)\n",
    "# pickle.dump(dt,open(','wb'))\n",
    "dt_train,dt_test = dt.score(X_train,Y_train), dt.score(X_test,Y_test)\n",
    "\n",
    "print(f\"Training score: {dt_train}\")\n",
    "print(f\"Test score: {dt_test}\")"
   ]
  },
  {
   "cell_type": "code",
   "execution_count": 29,
   "id": "ff25855e",
   "metadata": {},
   "outputs": [
    {
     "data": {
      "text/plain": [
       "['duration',\n",
       " 'hot',\n",
       " 'count',\n",
       " 'protocol_type',\n",
       " 'service',\n",
       " 'src_bytes',\n",
       " 'dst_bytes',\n",
       " 'flag',\n",
       " 'land',\n",
       " 'wrong_fragment',\n",
       " 'urgent',\n",
       " 'class']"
      ]
     },
     "execution_count": 29,
     "metadata": {},
     "output_type": "execute_result"
    }
   ],
   "source": [
    "selected_features"
   ]
  },
  {
   "cell_type": "code",
   "execution_count": 30,
   "id": "f48ad5c5",
   "metadata": {},
   "outputs": [
    {
     "name": "stdout",
     "output_type": "stream",
     "text": [
      "Model                  Train score    Test score\n",
      "-------------------  -------------  ------------\n",
      "KNN                       0.99526       0.994232\n",
      "Logistic Regression       0.912657      0.91059\n",
      "Decision Tree             0.99856       0.997036\n",
      "Random Forest             0.998821      0.999153\n"
     ]
    }
   ],
   "source": [
    "data =[\n",
    "    [\"KNN\",KNN_train,KNN_test],\n",
    "    [\"Logistic Regression\", lg_train,lg_test],\n",
    "    [\"Decision Tree\",dt_train,dt_test],\n",
    "    [\"Random Forest\", rf_train,rf_test]\n",
    "]\n",
    "\n",
    "col_names= [\"Model\",\"Train score\",\"Test score\"]\n",
    "print(tabulate(data,headers=col_names,tablefmt=\"\"))"
   ]
  },
  {
   "cell_type": "code",
   "execution_count": 31,
   "id": "da849c41",
   "metadata": {},
   "outputs": [],
   "source": [
    "newdata_scaled=[[-0.11024922, -0.09507567, -0.71704549, -0.12470616, -0.68678521,\n",
    "       -0.0076786 , -0.00491864,  0.75111129, -0.01408881, -0.08948642,\n",
    "       -0.00773599]]"
   ]
  },
  {
   "cell_type": "code",
   "execution_count": 32,
   "id": "eee8c26c",
   "metadata": {},
   "outputs": [
    {
     "name": "stdout",
     "output_type": "stream",
     "text": [
      "pred:  0.0\n"
     ]
    }
   ],
   "source": [
    "with open('C:\\\\Users\\\\MKT\\\\Documents\\\\tfc\\\\crssri_app\\\\network-monitoring-system-with-ML\\\\anomalie.pkl', 'rb') as f:\n",
    "    dt_loaded = pickle.load(f)\n",
    "    start_time=time.time()\n",
    "    predictions = dt_loaded.predict(newdata_scaled)\n",
    "    end_time=time.time()\n",
    "    print(\"pred: \",end_time-start_time)"
   ]
  },
  {
   "cell_type": "code",
   "execution_count": 33,
   "id": "f79d80f3",
   "metadata": {},
   "outputs": [
    {
     "name": "stdout",
     "output_type": "stream",
     "text": [
      "pred time:  0.008957147598266602\n"
     ]
    }
   ],
   "source": [
    "with open('C:\\\\Users\\\\MKT\\\\Documents\\\\tfc\\\\crssri_app\\\\network-monitoring-system-with-ML\\\\anomalieknn.pkl', 'rb') as f:\n",
    "    dt_loaded = pickle.load(f)\n",
    "    start_time=time.time()\n",
    "    predictions = dt_loaded.predict(newdata_scaled)\n",
    "    end_time=time.time()\n",
    "    print(\"pred time: \",end_time-start_time)"
   ]
  },
  {
   "cell_type": "code",
   "execution_count": 34,
   "id": "79213654",
   "metadata": {},
   "outputs": [
    {
     "name": "stdout",
     "output_type": "stream",
     "text": [
      "pred:  0.00099945068359375\n"
     ]
    }
   ],
   "source": [
    "with open('C:\\\\Users\\\\MKT\\\\Documents\\\\tfc\\\\crssri_app\\\\network-monitoring-system-with-ML\\\\anomalielgm.pkl', 'rb') as f:\n",
    "    dt_loaded = pickle.load(f)\n",
    "    start_time=time.time()\n",
    "    predictions = dt_loaded.predict(newdata_scaled)\n",
    "    end_time=time.time()\n",
    "    print(\"pred: \",end_time-start_time)"
   ]
  },
  {
   "cell_type": "code",
   "execution_count": 35,
   "id": "d592e3d1",
   "metadata": {},
   "outputs": [
    {
     "name": "stdout",
     "output_type": "stream",
     "text": [
      "pred:  0.05918073654174805\n"
     ]
    }
   ],
   "source": [
    "with open('C:\\\\Users\\\\MKT\\\\Documents\\\\tfc\\\\crssri_app\\\\network-monitoring-system-with-ML\\\\anomalierf.pkl', 'rb') as f:\n",
    "    dt_loaded = pickle.load(f)\n",
    "    start_time=time.time()\n",
    "    predictions = dt_loaded.predict(newdata_scaled)\n",
    "    end_time=time.time()\n",
    "    print(\"pred: \",end_time-start_time)"
   ]
  },
  {
   "cell_type": "code",
   "execution_count": 36,
   "id": "4023d444",
   "metadata": {},
   "outputs": [
    {
     "data": {
      "text/plain": [
       "array([1])"
      ]
     },
     "execution_count": 36,
     "metadata": {},
     "output_type": "execute_result"
    }
   ],
   "source": [
    "predictions"
   ]
  },
  {
   "cell_type": "code",
   "execution_count": 37,
   "id": "75c7026a",
   "metadata": {},
   "outputs": [
    {
     "name": "stdout",
     "output_type": "stream",
     "text": [
      "pred:  [1 1 1 ... 0 0 0]\n"
     ]
    }
   ],
   "source": [
    "with open('C:\\\\Users\\\\MKT\\\\Documents\\\\tfc\\\\crssri_app\\\\network-monitoring-system-with-ML\\\\anomalie.pkl', 'rb') as f:\n",
    "    dt_loaded = pickle.load(f)\n",
    "    start_time=time.time()\n",
    "    predictions = dt_loaded.predict(X_test)\n",
    "    end_time=time.time()\n",
    "    print(\"pred: \",predictions)"
   ]
  },
  {
   "cell_type": "code",
   "execution_count": 41,
   "id": "10a662fc",
   "metadata": {},
   "outputs": [
    {
     "data": {
      "image/png": "[encoded data removed]",
      "text/plain": [
       "<Figure size 432x288 with 2 Axes>"
      ]
     },
     "metadata": {
      "needs_background": "light"
     },
     "output_type": "display_data"
    }
   ],
   "source": [
    "confusion_matrix(Y_test,predictions)"
   ]
  },
  {
   "cell_type": "code",
   "execution_count": 42,
   "id": "ca75a5bd",
   "metadata": {},
   "outputs": [
    {
     "name": "stdout",
     "output_type": "stream",
     "text": [
      "pred:  [1 1 1 ... 0 0 0]\n"
     ]
    }
   ],
   "source": [
    "with open('C:\\\\Users\\\\MKT\\\\Documents\\\\tfc\\\\crssri_app\\\\network-monitoring-system-with-ML\\\\anomalielgm.pkl', 'rb') as f:\n",
    "    dt_loaded = pickle.load(f)\n",
    "    start_time=time.time()\n",
    "    prediction = dt_loaded.predict(X_test)\n",
    "    end_time=time.time()\n",
    "    print(\"pred: \",prediction)"
   ]
  },
  {
   "cell_type": "code",
   "execution_count": 43,
   "id": "c122b3a3",
   "metadata": {},
   "outputs": [
    {
     "data": {
      "image/png": "[encoded data removed]",
      "text/plain": [
       "<Figure size 432x288 with 2 Axes>"
      ]
     },
     "metadata": {
      "needs_background": "light"
     },
     "output_type": "display_data"
    }
   ],
   "source": [
    "confusion_matrix(Y_test,prediction)"
   ]
  },
  {
   "cell_type": "code",
   "execution_count": 44,
   "id": "3caf26d8",
   "metadata": {},
   "outputs": [
    {
     "name": "stdout",
     "output_type": "stream",
     "text": [
      "pred:  [1 1 1 ... 0 0 0]\n"
     ]
    }
   ],
   "source": [
    "with open('C:\\\\Users\\\\MKT\\\\Documents\\\\tfc\\\\crssri_app\\\\network-monitoring-system-with-ML\\\\anomalieknn.pkl', 'rb') as f:\n",
    "    dt_loaded = pickle.load(f)\n",
    "    start_time=time.time()\n",
    "    modelprediction = dt_loaded.predict(X_test)\n",
    "    end_time=time.time()\n",
    "    print(\"pred: \",modelprediction)"
   ]
  },
  {
   "cell_type": "code",
   "execution_count": 45,
   "id": "712b0c15",
   "metadata": {},
   "outputs": [
    {
     "data": {
      "image/png": "[encoded data removed]",
      "text/plain": [
       "<Figure size 432x288 with 2 Axes>"
      ]
     },
     "metadata": {
      "needs_background": "light"
     },
     "output_type": "display_data"
    }
   ],
   "source": [
    "confusion_matrix(Y_test,modelprediction)"
   ]
  },
  {
   "cell_type": "code",
   "execution_count": 46,
   "id": "1788f69d",
   "metadata": {},
   "outputs": [
    {
     "name": "stdout",
     "output_type": "stream",
     "text": [
      "pred:  [1 1 1 ... 0 0 0]\n"
     ]
    }
   ],
   "source": [
    "with open('C:\\\\Users\\\\MKT\\\\Documents\\\\tfc\\\\crssri_app\\\\network-monitoring-system-with-ML\\\\anomalierf.pkl', 'rb') as f:\n",
    "    dt_loaded = pickle.load(f)\n",
    "    start_time=time.time()\n",
    "    model_prediction = dt_loaded.predict(X_test)\n",
    "    end_time=time.time()\n",
    "    print(\"pred: \",model_prediction)"
   ]
  },
  {
   "cell_type": "code",
   "execution_count": 47,
   "id": "e8aa3e9c",
   "metadata": {},
   "outputs": [
    {
     "data": {
      "image/png": "[encoded data removed]",
      "text/plain": [
       "<Figure size 432x288 with 2 Axes>"
      ]
     },
     "metadata": {
      "needs_background": "light"
     },
     "output_type": "display_data"
    }
   ],
   "source": [
    "confusion_matrix(Y_test,model_prediction)"
   ]
  },
  {
   "cell_type": "code",
   "execution_count": 38,
   "id": "84ad68f1",
   "metadata": {},
   "outputs": [],
   "source": [
    "# # Chemin du fichier texte\n",
    "# txt_file_path = './dataset/testData.txt'\n",
    "\n",
    "# # Fonction pour ouvrir et lire le fichier texte\n",
    "# def open_txt_file(file_path):\n",
    "#     with open(file_path, 'r') as txt_file:\n",
    "#         data = txt_file.read()\n",
    "#     return data\n",
    "\n",
    "# # Appel de la fonction pour ouvrir le fichier texte\n",
    "# txt_data = open_txt_file(txt_file_path)\n",
    "_data=pd.read_csv('dataset/testData.txt', sep=',')\n",
    "txt_data = _data.copy()\n",
    "# test=pd.read_csv('./dataset/testData.txt',sep=',')\n",
    "# Affichage du contenu du fichier texte\n",
    "# print(txt_data)\n",
    "le(txt_data)\n",
    "label=txt_data['class']"
   ]
  },
  {
   "cell_type": "code",
   "execution_count": 39,
   "id": "256728a2",
   "metadata": {},
   "outputs": [
    {
     "data": {
      "text/html": [
       "<div>\n",
       "<style scoped>\n",
       "    .dataframe tbody tr th:only-of-type {\n",
       "        vertical-align: middle;\n",
       "    }\n",
       "\n",
       "    .dataframe tbody tr th {\n",
       "        vertical-align: top;\n",
       "    }\n",
       "\n",
       "    .dataframe thead th {\n",
       "        text-align: right;\n",
       "    }\n",
       "</style>\n",
       "<table border=\"1\" class=\"dataframe\">\n",
       "  <thead>\n",
       "    <tr style=\"text-align: right;\">\n",
       "      <th></th>\n",
       "      <th>duration</th>\n",
       "      <th>protocol_type</th>\n",
       "      <th>service</th>\n",
       "      <th>flag</th>\n",
       "      <th>src_bytes</th>\n",
       "      <th>dst_bytes</th>\n",
       "      <th>land</th>\n",
       "      <th>wrong_fragment</th>\n",
       "      <th>urgent</th>\n",
       "      <th>hot</th>\n",
       "      <th>...</th>\n",
       "      <th>dst_host_srv_count</th>\n",
       "      <th>dst_host_same_srv_rate</th>\n",
       "      <th>dst_host_diff_srv_rate</th>\n",
       "      <th>dst_host_same_src_port_rate</th>\n",
       "      <th>dst_host_srv_diff_host_rate</th>\n",
       "      <th>dst_host_serror_rate</th>\n",
       "      <th>dst_host_srv_serror_rate</th>\n",
       "      <th>dst_host_rerror_rate</th>\n",
       "      <th>dst_host_srv_rerror_rate</th>\n",
       "      <th>class</th>\n",
       "    </tr>\n",
       "  </thead>\n",
       "  <tbody>\n",
       "    <tr>\n",
       "      <th>0</th>\n",
       "      <td>0</td>\n",
       "      <td>1</td>\n",
       "      <td>45</td>\n",
       "      <td>1</td>\n",
       "      <td>0</td>\n",
       "      <td>0</td>\n",
       "      <td>0</td>\n",
       "      <td>0</td>\n",
       "      <td>0</td>\n",
       "      <td>0</td>\n",
       "      <td>...</td>\n",
       "      <td>10</td>\n",
       "      <td>0.04</td>\n",
       "      <td>0.06</td>\n",
       "      <td>0.00</td>\n",
       "      <td>0.00</td>\n",
       "      <td>0.00</td>\n",
       "      <td>0.0</td>\n",
       "      <td>1.00</td>\n",
       "      <td>1.00</td>\n",
       "      <td>0</td>\n",
       "    </tr>\n",
       "    <tr>\n",
       "      <th>1</th>\n",
       "      <td>0</td>\n",
       "      <td>1</td>\n",
       "      <td>45</td>\n",
       "      <td>1</td>\n",
       "      <td>0</td>\n",
       "      <td>0</td>\n",
       "      <td>0</td>\n",
       "      <td>0</td>\n",
       "      <td>0</td>\n",
       "      <td>0</td>\n",
       "      <td>...</td>\n",
       "      <td>1</td>\n",
       "      <td>0.00</td>\n",
       "      <td>0.06</td>\n",
       "      <td>0.00</td>\n",
       "      <td>0.00</td>\n",
       "      <td>0.00</td>\n",
       "      <td>0.0</td>\n",
       "      <td>1.00</td>\n",
       "      <td>1.00</td>\n",
       "      <td>0</td>\n",
       "    </tr>\n",
       "    <tr>\n",
       "      <th>2</th>\n",
       "      <td>2</td>\n",
       "      <td>1</td>\n",
       "      <td>19</td>\n",
       "      <td>9</td>\n",
       "      <td>12983</td>\n",
       "      <td>0</td>\n",
       "      <td>0</td>\n",
       "      <td>0</td>\n",
       "      <td>0</td>\n",
       "      <td>0</td>\n",
       "      <td>...</td>\n",
       "      <td>86</td>\n",
       "      <td>0.61</td>\n",
       "      <td>0.04</td>\n",
       "      <td>0.61</td>\n",
       "      <td>0.02</td>\n",
       "      <td>0.00</td>\n",
       "      <td>0.0</td>\n",
       "      <td>0.00</td>\n",
       "      <td>0.00</td>\n",
       "      <td>1</td>\n",
       "    </tr>\n",
       "    <tr>\n",
       "      <th>3</th>\n",
       "      <td>0</td>\n",
       "      <td>0</td>\n",
       "      <td>13</td>\n",
       "      <td>9</td>\n",
       "      <td>20</td>\n",
       "      <td>0</td>\n",
       "      <td>0</td>\n",
       "      <td>0</td>\n",
       "      <td>0</td>\n",
       "      <td>0</td>\n",
       "      <td>...</td>\n",
       "      <td>57</td>\n",
       "      <td>1.00</td>\n",
       "      <td>0.00</td>\n",
       "      <td>1.00</td>\n",
       "      <td>0.28</td>\n",
       "      <td>0.00</td>\n",
       "      <td>0.0</td>\n",
       "      <td>0.00</td>\n",
       "      <td>0.00</td>\n",
       "      <td>0</td>\n",
       "    </tr>\n",
       "    <tr>\n",
       "      <th>4</th>\n",
       "      <td>1</td>\n",
       "      <td>1</td>\n",
       "      <td>55</td>\n",
       "      <td>2</td>\n",
       "      <td>0</td>\n",
       "      <td>15</td>\n",
       "      <td>0</td>\n",
       "      <td>0</td>\n",
       "      <td>0</td>\n",
       "      <td>0</td>\n",
       "      <td>...</td>\n",
       "      <td>86</td>\n",
       "      <td>0.31</td>\n",
       "      <td>0.17</td>\n",
       "      <td>0.03</td>\n",
       "      <td>0.02</td>\n",
       "      <td>0.00</td>\n",
       "      <td>0.0</td>\n",
       "      <td>0.83</td>\n",
       "      <td>0.71</td>\n",
       "      <td>0</td>\n",
       "    </tr>\n",
       "    <tr>\n",
       "      <th>...</th>\n",
       "      <td>...</td>\n",
       "      <td>...</td>\n",
       "      <td>...</td>\n",
       "      <td>...</td>\n",
       "      <td>...</td>\n",
       "      <td>...</td>\n",
       "      <td>...</td>\n",
       "      <td>...</td>\n",
       "      <td>...</td>\n",
       "      <td>...</td>\n",
       "      <td>...</td>\n",
       "      <td>...</td>\n",
       "      <td>...</td>\n",
       "      <td>...</td>\n",
       "      <td>...</td>\n",
       "      <td>...</td>\n",
       "      <td>...</td>\n",
       "      <td>...</td>\n",
       "      <td>...</td>\n",
       "      <td>...</td>\n",
       "      <td>...</td>\n",
       "    </tr>\n",
       "    <tr>\n",
       "      <th>22539</th>\n",
       "      <td>0</td>\n",
       "      <td>1</td>\n",
       "      <td>49</td>\n",
       "      <td>9</td>\n",
       "      <td>794</td>\n",
       "      <td>333</td>\n",
       "      <td>0</td>\n",
       "      <td>0</td>\n",
       "      <td>0</td>\n",
       "      <td>0</td>\n",
       "      <td>...</td>\n",
       "      <td>141</td>\n",
       "      <td>0.72</td>\n",
       "      <td>0.06</td>\n",
       "      <td>0.01</td>\n",
       "      <td>0.01</td>\n",
       "      <td>0.01</td>\n",
       "      <td>0.0</td>\n",
       "      <td>0.00</td>\n",
       "      <td>0.00</td>\n",
       "      <td>1</td>\n",
       "    </tr>\n",
       "    <tr>\n",
       "      <th>22540</th>\n",
       "      <td>0</td>\n",
       "      <td>1</td>\n",
       "      <td>22</td>\n",
       "      <td>9</td>\n",
       "      <td>317</td>\n",
       "      <td>938</td>\n",
       "      <td>0</td>\n",
       "      <td>0</td>\n",
       "      <td>0</td>\n",
       "      <td>0</td>\n",
       "      <td>...</td>\n",
       "      <td>255</td>\n",
       "      <td>1.00</td>\n",
       "      <td>0.00</td>\n",
       "      <td>0.01</td>\n",
       "      <td>0.01</td>\n",
       "      <td>0.01</td>\n",
       "      <td>0.0</td>\n",
       "      <td>0.00</td>\n",
       "      <td>0.00</td>\n",
       "      <td>1</td>\n",
       "    </tr>\n",
       "    <tr>\n",
       "      <th>22541</th>\n",
       "      <td>0</td>\n",
       "      <td>1</td>\n",
       "      <td>22</td>\n",
       "      <td>9</td>\n",
       "      <td>54540</td>\n",
       "      <td>8314</td>\n",
       "      <td>0</td>\n",
       "      <td>0</td>\n",
       "      <td>0</td>\n",
       "      <td>2</td>\n",
       "      <td>...</td>\n",
       "      <td>255</td>\n",
       "      <td>1.00</td>\n",
       "      <td>0.00</td>\n",
       "      <td>0.00</td>\n",
       "      <td>0.00</td>\n",
       "      <td>0.00</td>\n",
       "      <td>0.0</td>\n",
       "      <td>0.07</td>\n",
       "      <td>0.07</td>\n",
       "      <td>0</td>\n",
       "    </tr>\n",
       "    <tr>\n",
       "      <th>22542</th>\n",
       "      <td>0</td>\n",
       "      <td>2</td>\n",
       "      <td>11</td>\n",
       "      <td>9</td>\n",
       "      <td>42</td>\n",
       "      <td>42</td>\n",
       "      <td>0</td>\n",
       "      <td>0</td>\n",
       "      <td>0</td>\n",
       "      <td>0</td>\n",
       "      <td>...</td>\n",
       "      <td>252</td>\n",
       "      <td>0.99</td>\n",
       "      <td>0.01</td>\n",
       "      <td>0.00</td>\n",
       "      <td>0.00</td>\n",
       "      <td>0.00</td>\n",
       "      <td>0.0</td>\n",
       "      <td>0.00</td>\n",
       "      <td>0.00</td>\n",
       "      <td>1</td>\n",
       "    </tr>\n",
       "    <tr>\n",
       "      <th>22543</th>\n",
       "      <td>0</td>\n",
       "      <td>1</td>\n",
       "      <td>52</td>\n",
       "      <td>1</td>\n",
       "      <td>0</td>\n",
       "      <td>0</td>\n",
       "      <td>0</td>\n",
       "      <td>0</td>\n",
       "      <td>0</td>\n",
       "      <td>0</td>\n",
       "      <td>...</td>\n",
       "      <td>21</td>\n",
       "      <td>0.08</td>\n",
       "      <td>0.03</td>\n",
       "      <td>0.00</td>\n",
       "      <td>0.00</td>\n",
       "      <td>0.00</td>\n",
       "      <td>0.0</td>\n",
       "      <td>0.44</td>\n",
       "      <td>1.00</td>\n",
       "      <td>0</td>\n",
       "    </tr>\n",
       "  </tbody>\n",
       "</table>\n",
       "<p>22544 rows × 42 columns</p>\n",
       "</div>"
      ],
      "text/plain": [
       "       duration  protocol_type  service  flag  src_bytes  dst_bytes  land  \\\n",
       "0             0              1       45     1          0          0     0   \n",
       "1             0              1       45     1          0          0     0   \n",
       "2             2              1       19     9      12983          0     0   \n",
       "3             0              0       13     9         20          0     0   \n",
       "4             1              1       55     2          0         15     0   \n",
       "...         ...            ...      ...   ...        ...        ...   ...   \n",
       "22539         0              1       49     9        794        333     0   \n",
       "22540         0              1       22     9        317        938     0   \n",
       "22541         0              1       22     9      54540       8314     0   \n",
       "22542         0              2       11     9         42         42     0   \n",
       "22543         0              1       52     1          0          0     0   \n",
       "\n",
       "       wrong_fragment  urgent  hot  ...  dst_host_srv_count  \\\n",
       "0                   0       0    0  ...                  10   \n",
       "1                   0       0    0  ...                   1   \n",
       "2                   0       0    0  ...                  86   \n",
       "3                   0       0    0  ...                  57   \n",
       "4                   0       0    0  ...                  86   \n",
       "...               ...     ...  ...  ...                 ...   \n",
       "22539               0       0    0  ...                 141   \n",
       "22540               0       0    0  ...                 255   \n",
       "22541               0       0    2  ...                 255   \n",
       "22542               0       0    0  ...                 252   \n",
       "22543               0       0    0  ...                  21   \n",
       "\n",
       "       dst_host_same_srv_rate  dst_host_diff_srv_rate  \\\n",
       "0                        0.04                    0.06   \n",
       "1                        0.00                    0.06   \n",
       "2                        0.61                    0.04   \n",
       "3                        1.00                    0.00   \n",
       "4                        0.31                    0.17   \n",
       "...                       ...                     ...   \n",
       "22539                    0.72                    0.06   \n",
       "22540                    1.00                    0.00   \n",
       "22541                    1.00                    0.00   \n",
       "22542                    0.99                    0.01   \n",
       "22543                    0.08                    0.03   \n",
       "\n",
       "       dst_host_same_src_port_rate  dst_host_srv_diff_host_rate  \\\n",
       "0                             0.00                         0.00   \n",
       "1                             0.00                         0.00   \n",
       "2                             0.61                         0.02   \n",
       "3                             1.00                         0.28   \n",
       "4                             0.03                         0.02   \n",
       "...                            ...                          ...   \n",
       "22539                         0.01                         0.01   \n",
       "22540                         0.01                         0.01   \n",
       "22541                         0.00                         0.00   \n",
       "22542                         0.00                         0.00   \n",
       "22543                         0.00                         0.00   \n",
       "\n",
       "       dst_host_serror_rate  dst_host_srv_serror_rate  dst_host_rerror_rate  \\\n",
       "0                      0.00                       0.0                  1.00   \n",
       "1                      0.00                       0.0                  1.00   \n",
       "2                      0.00                       0.0                  0.00   \n",
       "3                      0.00                       0.0                  0.00   \n",
       "4                      0.00                       0.0                  0.83   \n",
       "...                     ...                       ...                   ...   \n",
       "22539                  0.01                       0.0                  0.00   \n",
       "22540                  0.01                       0.0                  0.00   \n",
       "22541                  0.00                       0.0                  0.07   \n",
       "22542                  0.00                       0.0                  0.00   \n",
       "22543                  0.00                       0.0                  0.44   \n",
       "\n",
       "       dst_host_srv_rerror_rate  class  \n",
       "0                          1.00      0  \n",
       "1                          1.00      0  \n",
       "2                          0.00      1  \n",
       "3                          0.00      0  \n",
       "4                          0.71      0  \n",
       "...                         ...    ...  \n",
       "22539                      0.00      1  \n",
       "22540                      0.00      1  \n",
       "22541                      0.07      0  \n",
       "22542                      0.00      1  \n",
       "22543                      1.00      0  \n",
       "\n",
       "[22544 rows x 42 columns]"
      ]
     },
     "execution_count": 39,
     "metadata": {},
     "output_type": "execute_result"
    }
   ],
   "source": [
    "# txt_data.drop(['num_outbound_cmds'],axis=1,inplace=True)\n",
    "txt_data\n"
   ]
  },
  {
   "cell_type": "code",
   "execution_count": 40,
   "id": "935a169d",
   "metadata": {},
   "outputs": [],
   "source": [
    "def confusion_matrix(actual,predicted):\n",
    "    confusion_matrix = metrics.confusion_matrix(actual,predicted)\n",
    "    displayconfmax=metrics.ConfusionMatrixDisplay(confusion_matrix=confusion_matrix,display_labels=[0,1])\n",
    "    displayconfmax.plot()\n",
    "    return plt.show()"
   ]
  },
  {
   "cell_type": "code",
   "execution_count": null,
   "id": "1ccf0af8",
   "metadata": {},
   "outputs": [],
   "source": []
  },
  {
   "cell_type": "code",
   "execution_count": null,
   "id": "4e8e0f19",
   "metadata": {},
   "outputs": [],
   "source": []
  },
  {
   "cell_type": "code",
   "execution_count": null,
   "id": "393d9d9f",
   "metadata": {},
   "outputs": [],
   "source": []
  },
  {
   "cell_type": "code",
   "execution_count": null,
   "id": "c99b4a19",
   "metadata": {},
   "outputs": [],
   "source": []
  },
  {
   "cell_type": "code",
   "execution_count": null,
   "id": "33a2d31c",
   "metadata": {},
   "outputs": [],
   "source": []
  }
 ],
 "metadata": {
  "kernelspec": {
   "display_name": "Python 3 (ipykernel)",
   "language": "python",
   "name": "python3"
  }
 },
 "nbformat": 4,
 "nbformat_minor": 5
}
